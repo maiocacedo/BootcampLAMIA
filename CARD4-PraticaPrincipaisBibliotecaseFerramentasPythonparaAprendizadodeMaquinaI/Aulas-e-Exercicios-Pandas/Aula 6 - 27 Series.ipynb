{
 "cells": [
  {
   "cell_type": "markdown",
   "id": "e9e730a5",
   "metadata": {},
   "source": [
    "# **Series**\n",
    "*Estruturas unidimensionais para manipulação de dados*"
   ]
  },
  {
   "cell_type": "markdown",
   "id": "1481ba79",
   "metadata": {},
   "source": [
    "> Importando as Bibliotecas NumPy e Pandas"
   ]
  },
  {
   "cell_type": "code",
   "execution_count": 1,
   "id": "d53f040a-3be7-46e5-b5b8-2b1ada217333",
   "metadata": {},
   "outputs": [],
   "source": [
    "import numpy as np\n",
    "import pandas as pd"
   ]
  },
  {
   "cell_type": "markdown",
   "id": "bf356f32",
   "metadata": {},
   "source": [
    "> Criando duas listas: Labels para os índices e minha_lista para data. A partir disso, é criado uma series utilizando pandas"
   ]
  },
  {
   "cell_type": "code",
   "execution_count": 2,
   "id": "3ac07f56-9b54-4180-91ee-283b8f21769f",
   "metadata": {},
   "outputs": [],
   "source": [
    "labels = ['a', 'b', 'c']"
   ]
  },
  {
   "cell_type": "code",
   "execution_count": 3,
   "id": "221bec11-13f4-44c3-82a2-d0e2ac9dd827",
   "metadata": {},
   "outputs": [],
   "source": [
    "minha_lista = [10, 20, 30]"
   ]
  },
  {
   "cell_type": "code",
   "execution_count": 4,
   "id": "02df84a6-eb3b-44fc-bc4e-14e1d4c4565f",
   "metadata": {},
   "outputs": [],
   "source": [
    "arr = np.array([10, 20, 30])"
   ]
  },
  {
   "cell_type": "code",
   "execution_count": 5,
   "id": "53319fa8-0704-4935-9b5d-eed255b1a2c9",
   "metadata": {},
   "outputs": [],
   "source": [
    "d = {'a':10, 'b': 20, 'c':30}"
   ]
  },
  {
   "cell_type": "code",
   "execution_count": 6,
   "id": "a25126c8-558e-4cb5-b5e0-0ae0ee4530a1",
   "metadata": {},
   "outputs": [
    {
     "data": {
      "text/plain": [
       "a    10\n",
       "b    20\n",
       "c    30\n",
       "dtype: int64"
      ]
     },
     "execution_count": 6,
     "metadata": {},
     "output_type": "execute_result"
    }
   ],
   "source": [
    "pd.Series(data=minha_lista, index=labels)"
   ]
  },
  {
   "cell_type": "code",
   "execution_count": 7,
   "id": "d15d85ff-5879-4a04-a629-36eb933b2c04",
   "metadata": {},
   "outputs": [],
   "source": [
    "series = pd.Series(data=minha_lista, index=labels)"
   ]
  },
  {
   "cell_type": "markdown",
   "id": "35d5863e",
   "metadata": {},
   "source": [
    "> Exibindo valor do índice b"
   ]
  },
  {
   "cell_type": "code",
   "execution_count": 8,
   "id": "97bc1669-64c2-437a-a0b2-25aaa65d7d23",
   "metadata": {},
   "outputs": [
    {
     "data": {
      "text/plain": [
       "20"
      ]
     },
     "execution_count": 8,
     "metadata": {},
     "output_type": "execute_result"
    }
   ],
   "source": [
    "series['b']"
   ]
  },
  {
   "cell_type": "markdown",
   "id": "ed8906af",
   "metadata": {},
   "source": []
  },
  {
   "cell_type": "code",
   "execution_count": 9,
   "id": "799abc90-840f-43cc-bf5e-6215ddd6e7dd",
   "metadata": {},
   "outputs": [
    {
     "data": {
      "text/plain": [
       "a    10\n",
       "b    20\n",
       "c    30\n",
       "dtype: int64"
      ]
     },
     "execution_count": 9,
     "metadata": {},
     "output_type": "execute_result"
    }
   ],
   "source": [
    "pd.Series(minha_lista, labels)"
   ]
  },
  {
   "cell_type": "markdown",
   "id": "c8a0288e",
   "metadata": {},
   "source": [
    "> Criando series utilizando np.array como data"
   ]
  },
  {
   "cell_type": "code",
   "execution_count": 10,
   "id": "7f6d3e65-a078-41c6-9ba8-8526a4580025",
   "metadata": {},
   "outputs": [
    {
     "data": {
      "text/plain": [
       "a    10\n",
       "b    20\n",
       "c    30\n",
       "dtype: int32"
      ]
     },
     "execution_count": 10,
     "metadata": {},
     "output_type": "execute_result"
    }
   ],
   "source": [
    "pd.Series(arr, labels)"
   ]
  },
  {
   "cell_type": "markdown",
   "id": "be45af75",
   "metadata": {},
   "source": [
    "> Criando uma series com index de países"
   ]
  },
  {
   "cell_type": "code",
   "execution_count": 11,
   "id": "4bc30fca-b94f-423c-a3ec-242d513162ec",
   "metadata": {},
   "outputs": [],
   "source": [
    "ser1 = pd.Series([1, 2, 3, 4], index=['EUA', 'Alemanha', 'URSS', 'Japão'])"
   ]
  },
  {
   "cell_type": "code",
   "execution_count": 12,
   "id": "6d623ffe-ad32-417f-8b23-a0681bf2dcf3",
   "metadata": {},
   "outputs": [
    {
     "data": {
      "text/plain": [
       "EUA         1\n",
       "Alemanha    2\n",
       "URSS        3\n",
       "Japão       4\n",
       "dtype: int64"
      ]
     },
     "execution_count": 12,
     "metadata": {},
     "output_type": "execute_result"
    }
   ],
   "source": [
    "ser1"
   ]
  },
  {
   "cell_type": "code",
   "execution_count": 13,
   "id": "7279789f-17f6-4e44-ae48-c9db6b149467",
   "metadata": {},
   "outputs": [],
   "source": [
    "ser2 = pd.Series([1, 2, 3, 4], index=['EUA', 'Alemanha', 'Itália', 'Japão'])"
   ]
  },
  {
   "cell_type": "code",
   "execution_count": 14,
   "id": "dc918fb8-9eac-4be7-8894-9e37bfda5328",
   "metadata": {},
   "outputs": [
    {
     "data": {
      "text/plain": [
       "EUA         1\n",
       "Alemanha    2\n",
       "Itália      3\n",
       "Japão       4\n",
       "dtype: int64"
      ]
     },
     "execution_count": 14,
     "metadata": {},
     "output_type": "execute_result"
    }
   ],
   "source": [
    "ser2"
   ]
  },
  {
   "cell_type": "markdown",
   "id": "65d11e29",
   "metadata": {},
   "source": [
    "> Operações entre series"
   ]
  },
  {
   "cell_type": "code",
   "execution_count": 22,
   "id": "bd14428c-9888-4021-8d0f-68696ea9dfb9",
   "metadata": {},
   "outputs": [
    {
     "data": {
      "text/plain": [
       "Alemanha    4.0\n",
       "EUA         2.0\n",
       "Itália      NaN\n",
       "Japão       8.0\n",
       "URSS        NaN\n",
       "dtype: float64"
      ]
     },
     "execution_count": 22,
     "metadata": {},
     "output_type": "execute_result"
    }
   ],
   "source": [
    "ser1 + ser2"
   ]
  },
  {
   "cell_type": "code",
   "execution_count": 23,
   "id": "7e4df077",
   "metadata": {},
   "outputs": [
    {
     "data": {
      "text/plain": [
       "Alemanha    4.0\n",
       "EUA         2.0\n",
       "Itália      NaN\n",
       "Japão       8.0\n",
       "URSS        NaN\n",
       "dtype: float64"
      ]
     },
     "execution_count": 23,
     "metadata": {},
     "output_type": "execute_result"
    }
   ],
   "source": [
    "ser2 + ser1"
   ]
  },
  {
   "cell_type": "code",
   "execution_count": 17,
   "id": "8ac2f35c-0e02-40e7-8012-90ac756feacb",
   "metadata": {},
   "outputs": [
    {
     "data": {
      "text/plain": [
       "Alemanha     4.0\n",
       "EUA          1.0\n",
       "Itália       NaN\n",
       "Japão       16.0\n",
       "URSS         NaN\n",
       "dtype: float64"
      ]
     },
     "execution_count": 17,
     "metadata": {},
     "output_type": "execute_result"
    }
   ],
   "source": [
    "ser1 * ser2"
   ]
  },
  {
   "cell_type": "code",
   "execution_count": 18,
   "id": "cad0af5a",
   "metadata": {},
   "outputs": [
    {
     "data": {
      "text/plain": [
       "4.666666666666667"
      ]
     },
     "execution_count": 18,
     "metadata": {},
     "output_type": "execute_result"
    }
   ],
   "source": [
    "(ser1 + ser2).mean()"
   ]
  },
  {
   "cell_type": "code",
   "execution_count": 19,
   "id": "675f1367",
   "metadata": {},
   "outputs": [
    {
     "data": {
      "text/plain": [
       "4"
      ]
     },
     "execution_count": 19,
     "metadata": {},
     "output_type": "execute_result"
    }
   ],
   "source": [
    "ser1.max()"
   ]
  },
  {
   "cell_type": "code",
   "execution_count": 20,
   "id": "d0a19ddb",
   "metadata": {},
   "outputs": [
    {
     "data": {
      "text/plain": [
       "Alemanha    1.0\n",
       "EUA         1.0\n",
       "Itália      NaN\n",
       "Japão       1.0\n",
       "URSS        NaN\n",
       "dtype: float64"
      ]
     },
     "execution_count": 20,
     "metadata": {},
     "output_type": "execute_result"
    }
   ],
   "source": [
    "ser1 / ser2"
   ]
  },
  {
   "cell_type": "code",
   "execution_count": null,
   "id": "e96695f5",
   "metadata": {},
   "outputs": [],
   "source": []
  }
 ],
 "metadata": {
  "kernelspec": {
   "display_name": "base",
   "language": "python",
   "name": "python3"
  },
  "language_info": {
   "codemirror_mode": {
    "name": "ipython",
    "version": 3
   },
   "file_extension": ".py",
   "mimetype": "text/x-python",
   "name": "python",
   "nbconvert_exporter": "python",
   "pygments_lexer": "ipython3",
   "version": "3.12.4"
  }
 },
 "nbformat": 4,
 "nbformat_minor": 5
}
