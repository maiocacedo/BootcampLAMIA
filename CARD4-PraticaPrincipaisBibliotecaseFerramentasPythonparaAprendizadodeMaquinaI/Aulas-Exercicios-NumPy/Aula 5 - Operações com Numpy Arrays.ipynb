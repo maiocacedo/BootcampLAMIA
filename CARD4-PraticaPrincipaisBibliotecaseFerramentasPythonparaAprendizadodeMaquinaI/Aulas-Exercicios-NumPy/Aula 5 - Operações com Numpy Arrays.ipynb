{
 "cells": [
  {
   "cell_type": "markdown",
   "id": "4c3c169c",
   "metadata": {},
   "source": [
    "# **Operações com NumPy Arrays**\n",
    "*Operações entre as arrays, Soma, Subtração, Multiplicação, Divisão, Potência e Raiz Quadrada*"
   ]
  },
  {
   "cell_type": "markdown",
   "id": "a90ca295",
   "metadata": {},
   "source": [
    "> Importando a biblioteca NumPy"
   ]
  },
  {
   "cell_type": "code",
   "execution_count": 1,
   "id": "5c4711c2-898b-4278-871a-1761ec815267",
   "metadata": {},
   "outputs": [],
   "source": [
    "import numpy as np"
   ]
  },
  {
   "cell_type": "markdown",
   "id": "6e7470a1",
   "metadata": {},
   "source": [
    "> Atribuindo uma array de 0 a 16 à arr"
   ]
  },
  {
   "cell_type": "code",
   "execution_count": 3,
   "id": "07912a28-5bf4-4ae5-8f80-6bd60433051d",
   "metadata": {},
   "outputs": [],
   "source": [
    "arr = np.arange(0, 16)"
   ]
  },
  {
   "cell_type": "code",
   "execution_count": 4,
   "id": "ce075253-1dc2-4bac-80cd-a6b4b06510f5",
   "metadata": {},
   "outputs": [
    {
     "data": {
      "text/plain": [
       "array([ 0,  1,  2,  3,  4,  5,  6,  7,  8,  9, 10, 11, 12, 13, 14, 15])"
      ]
     },
     "execution_count": 4,
     "metadata": {},
     "output_type": "execute_result"
    }
   ],
   "source": [
    "arr"
   ]
  },
  {
   "cell_type": "markdown",
   "id": "30b9d626",
   "metadata": {},
   "source": [
    "> Somando arrays"
   ]
  },
  {
   "cell_type": "code",
   "execution_count": 5,
   "id": "3e29a93e-1798-4772-b50a-989be81f5b17",
   "metadata": {},
   "outputs": [
    {
     "data": {
      "text/plain": [
       "array([ 0,  2,  4,  6,  8, 10, 12, 14, 16, 18, 20, 22, 24, 26, 28, 30])"
      ]
     },
     "execution_count": 5,
     "metadata": {},
     "output_type": "execute_result"
    }
   ],
   "source": [
    "arr+arr"
   ]
  },
  {
   "cell_type": "markdown",
   "id": "ef689a89",
   "metadata": {},
   "source": [
    "> Subtraindo arrays"
   ]
  },
  {
   "cell_type": "code",
   "execution_count": 6,
   "id": "4c02a002-83ec-4db7-ae2b-f26faf39d97e",
   "metadata": {},
   "outputs": [
    {
     "data": {
      "text/plain": [
       "array([0, 0, 0, 0, 0, 0, 0, 0, 0, 0, 0, 0, 0, 0, 0, 0])"
      ]
     },
     "execution_count": 6,
     "metadata": {},
     "output_type": "execute_result"
    }
   ],
   "source": [
    "arr - arr"
   ]
  },
  {
   "cell_type": "markdown",
   "id": "6eb5f8b2",
   "metadata": {},
   "source": [
    "> Multiplicando arrays"
   ]
  },
  {
   "cell_type": "code",
   "execution_count": 7,
   "id": "85a87ed5-ba29-42c9-9e7c-ba33d7264d9b",
   "metadata": {},
   "outputs": [
    {
     "data": {
      "text/plain": [
       "array([  0,   1,   4,   9,  16,  25,  36,  49,  64,  81, 100, 121, 144,\n",
       "       169, 196, 225])"
      ]
     },
     "execution_count": 7,
     "metadata": {},
     "output_type": "execute_result"
    }
   ],
   "source": [
    "arr*arr"
   ]
  },
  {
   "cell_type": "markdown",
   "id": "ab8a1c8e",
   "metadata": {},
   "source": [
    "> Dividindo arrays"
   ]
  },
  {
   "cell_type": "code",
   "execution_count": 8,
   "id": "dff48bf8-8a4a-41d2-becb-889806da86a2",
   "metadata": {},
   "outputs": [
    {
     "name": "stderr",
     "output_type": "stream",
     "text": [
      "C:\\Users\\caiom\\AppData\\Local\\Temp\\ipykernel_16240\\3001117470.py:1: RuntimeWarning: invalid value encountered in divide\n",
      "  arr / arr\n"
     ]
    },
    {
     "data": {
      "text/plain": [
       "array([nan,  1.,  1.,  1.,  1.,  1.,  1.,  1.,  1.,  1.,  1.,  1.,  1.,\n",
       "        1.,  1.,  1.])"
      ]
     },
     "execution_count": 8,
     "metadata": {},
     "output_type": "execute_result"
    }
   ],
   "source": [
    "arr / arr"
   ]
  },
  {
   "cell_type": "markdown",
   "id": "e436dbec",
   "metadata": {},
   "source": [
    "> array inversa"
   ]
  },
  {
   "cell_type": "code",
   "execution_count": 9,
   "id": "48592a1d-a5f5-4d02-990a-1b7ad783e8f3",
   "metadata": {},
   "outputs": [
    {
     "name": "stderr",
     "output_type": "stream",
     "text": [
      "C:\\Users\\caiom\\AppData\\Local\\Temp\\ipykernel_16240\\255282349.py:1: RuntimeWarning: divide by zero encountered in divide\n",
      "  1/arr\n"
     ]
    },
    {
     "data": {
      "text/plain": [
       "array([       inf, 1.        , 0.5       , 0.33333333, 0.25      ,\n",
       "       0.2       , 0.16666667, 0.14285714, 0.125     , 0.11111111,\n",
       "       0.1       , 0.09090909, 0.08333333, 0.07692308, 0.07142857,\n",
       "       0.06666667])"
      ]
     },
     "execution_count": 9,
     "metadata": {},
     "output_type": "execute_result"
    }
   ],
   "source": [
    "1/arr"
   ]
  },
  {
   "cell_type": "markdown",
   "id": "49ce447e",
   "metadata": {},
   "source": [
    "> Array ao quadrado"
   ]
  },
  {
   "cell_type": "code",
   "execution_count": 10,
   "id": "31b3f41e-c2ce-48a8-a0e8-fe8e219cf9c5",
   "metadata": {},
   "outputs": [
    {
     "data": {
      "text/plain": [
       "array([  0,   1,   4,   9,  16,  25,  36,  49,  64,  81, 100, 121, 144,\n",
       "       169, 196, 225])"
      ]
     },
     "execution_count": 10,
     "metadata": {},
     "output_type": "execute_result"
    }
   ],
   "source": [
    "arr ** 2"
   ]
  },
  {
   "cell_type": "markdown",
   "id": "36607d7b",
   "metadata": {},
   "source": [
    "> Soma escalar"
   ]
  },
  {
   "cell_type": "code",
   "execution_count": 11,
   "id": "c4f803ab-9cdd-45c3-97f6-948c8c7b26cd",
   "metadata": {},
   "outputs": [
    {
     "data": {
      "text/plain": [
       "array([100, 101, 102, 103, 104, 105, 106, 107, 108, 109, 110, 111, 112,\n",
       "       113, 114, 115])"
      ]
     },
     "execution_count": 11,
     "metadata": {},
     "output_type": "execute_result"
    }
   ],
   "source": [
    "arr + 100"
   ]
  },
  {
   "cell_type": "markdown",
   "id": "dd9426b2",
   "metadata": {},
   "source": [
    "> Subtração escalar"
   ]
  },
  {
   "cell_type": "code",
   "execution_count": 12,
   "id": "0be01b56-2aad-46f8-85ca-dc2412b76fe4",
   "metadata": {},
   "outputs": [
    {
     "data": {
      "text/plain": [
       "array([-100,  -99,  -98,  -97,  -96,  -95,  -94,  -93,  -92,  -91,  -90,\n",
       "        -89,  -88,  -87,  -86,  -85])"
      ]
     },
     "execution_count": 12,
     "metadata": {},
     "output_type": "execute_result"
    }
   ],
   "source": [
    "arr - 100"
   ]
  },
  {
   "cell_type": "markdown",
   "id": "9ffbf481",
   "metadata": {},
   "source": [
    "> Multiplicação escalar"
   ]
  },
  {
   "cell_type": "code",
   "execution_count": 13,
   "id": "fd507eeb-2960-4017-8e78-8700d584ddcf",
   "metadata": {},
   "outputs": [
    {
     "data": {
      "text/plain": [
       "array([   0,  100,  200,  300,  400,  500,  600,  700,  800,  900, 1000,\n",
       "       1100, 1200, 1300, 1400, 1500])"
      ]
     },
     "execution_count": 13,
     "metadata": {},
     "output_type": "execute_result"
    }
   ],
   "source": [
    "arr * 100\n"
   ]
  },
  {
   "cell_type": "markdown",
   "id": "7027c125",
   "metadata": {},
   "source": [
    "> Divisão Escalar"
   ]
  },
  {
   "cell_type": "code",
   "execution_count": 14,
   "id": "cf132e9d-30a4-4db2-b1a4-785e14a457a5",
   "metadata": {},
   "outputs": [
    {
     "data": {
      "text/plain": [
       "array([0.  , 0.01, 0.02, 0.03, 0.04, 0.05, 0.06, 0.07, 0.08, 0.09, 0.1 ,\n",
       "       0.11, 0.12, 0.13, 0.14, 0.15])"
      ]
     },
     "execution_count": 14,
     "metadata": {},
     "output_type": "execute_result"
    }
   ],
   "source": [
    "arr / 100"
   ]
  },
  {
   "cell_type": "markdown",
   "id": "5f277ccc",
   "metadata": {},
   "source": [
    "> Raiz da array"
   ]
  },
  {
   "cell_type": "code",
   "execution_count": 15,
   "id": "87302008-c3c9-49d3-95b0-06f9dd6284b2",
   "metadata": {},
   "outputs": [
    {
     "data": {
      "text/plain": [
       "array([0.        , 1.        , 1.41421356, 1.73205081, 2.        ,\n",
       "       2.23606798, 2.44948974, 2.64575131, 2.82842712, 3.        ,\n",
       "       3.16227766, 3.31662479, 3.46410162, 3.60555128, 3.74165739,\n",
       "       3.87298335])"
      ]
     },
     "execution_count": 15,
     "metadata": {},
     "output_type": "execute_result"
    }
   ],
   "source": [
    "np.sqrt(arr)"
   ]
  },
  {
   "cell_type": "markdown",
   "id": "92fec972",
   "metadata": {},
   "source": [
    "> Exponenciação da array"
   ]
  },
  {
   "cell_type": "code",
   "execution_count": 16,
   "id": "5f9eb0f9-eb20-40dc-bb28-2a28958aa4ad",
   "metadata": {},
   "outputs": [
    {
     "data": {
      "text/plain": [
       "array([1.00000000e+00, 2.71828183e+00, 7.38905610e+00, 2.00855369e+01,\n",
       "       5.45981500e+01, 1.48413159e+02, 4.03428793e+02, 1.09663316e+03,\n",
       "       2.98095799e+03, 8.10308393e+03, 2.20264658e+04, 5.98741417e+04,\n",
       "       1.62754791e+05, 4.42413392e+05, 1.20260428e+06, 3.26901737e+06])"
      ]
     },
     "execution_count": 16,
     "metadata": {},
     "output_type": "execute_result"
    }
   ],
   "source": [
    "np.exp(arr)"
   ]
  },
  {
   "cell_type": "markdown",
   "id": "359ef700",
   "metadata": {},
   "source": [
    "> Desvio padrão"
   ]
  },
  {
   "cell_type": "code",
   "execution_count": 18,
   "id": "9942ffae-9eea-48c3-b1c8-d7ca5bcc4897",
   "metadata": {},
   "outputs": [
    {
     "data": {
      "text/plain": [
       "4.6097722286464435"
      ]
     },
     "execution_count": 18,
     "metadata": {},
     "output_type": "execute_result"
    }
   ],
   "source": [
    "np.std(arr)"
   ]
  },
  {
   "cell_type": "markdown",
   "id": "0fa7229d",
   "metadata": {},
   "source": [
    "> Média dos valores da array"
   ]
  },
  {
   "cell_type": "code",
   "execution_count": 20,
   "id": "0f530d3f-a323-4a58-bb89-7f83093bea91",
   "metadata": {},
   "outputs": [
    {
     "data": {
      "text/plain": [
       "7.5"
      ]
     },
     "execution_count": 20,
     "metadata": {},
     "output_type": "execute_result"
    }
   ],
   "source": [
    "np.mean(arr)"
   ]
  },
  {
   "cell_type": "markdown",
   "id": "7c81656d",
   "metadata": {},
   "source": [
    "> Seno da array"
   ]
  },
  {
   "cell_type": "code",
   "execution_count": 21,
   "id": "4f3af68d-f596-493d-9837-887eb03e881f",
   "metadata": {},
   "outputs": [
    {
     "data": {
      "text/plain": [
       "array([ 0.        ,  0.84147098,  0.90929743,  0.14112001, -0.7568025 ,\n",
       "       -0.95892427, -0.2794155 ,  0.6569866 ,  0.98935825,  0.41211849,\n",
       "       -0.54402111, -0.99999021, -0.53657292,  0.42016704,  0.99060736,\n",
       "        0.65028784])"
      ]
     },
     "execution_count": 21,
     "metadata": {},
     "output_type": "execute_result"
    }
   ],
   "source": [
    "np.sin(arr)"
   ]
  },
  {
   "cell_type": "markdown",
   "id": "3e178d33",
   "metadata": {},
   "source": [
    "> Maior valor da array"
   ]
  },
  {
   "cell_type": "code",
   "execution_count": 22,
   "id": "75b8968a-636e-45e8-b1a7-255bb627490d",
   "metadata": {},
   "outputs": [
    {
     "data": {
      "text/plain": [
       "15"
      ]
     },
     "execution_count": 22,
     "metadata": {},
     "output_type": "execute_result"
    }
   ],
   "source": [
    "np.max(arr)"
   ]
  },
  {
   "cell_type": "code",
   "execution_count": 23,
   "id": "8fc89578-fe59-4fcd-9c26-5999886a2b1b",
   "metadata": {},
   "outputs": [
    {
     "data": {
      "text/plain": [
       "15"
      ]
     },
     "execution_count": 23,
     "metadata": {},
     "output_type": "execute_result"
    }
   ],
   "source": [
    "arr.max()"
   ]
  }
 ],
 "metadata": {
  "kernelspec": {
   "display_name": "Python 3 (ipykernel)",
   "language": "python",
   "name": "python3"
  },
  "language_info": {
   "codemirror_mode": {
    "name": "ipython",
    "version": 3
   },
   "file_extension": ".py",
   "mimetype": "text/x-python",
   "name": "python",
   "nbconvert_exporter": "python",
   "pygments_lexer": "ipython3",
   "version": "3.12.4"
  }
 },
 "nbformat": 4,
 "nbformat_minor": 5
}
