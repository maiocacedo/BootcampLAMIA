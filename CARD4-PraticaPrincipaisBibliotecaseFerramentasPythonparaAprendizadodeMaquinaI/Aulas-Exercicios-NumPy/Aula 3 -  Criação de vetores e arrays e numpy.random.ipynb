{
 "cells": [
  {
   "cell_type": "markdown",
   "id": "3accac3f",
   "metadata": {},
   "source": [
    "# Vetores e Arrays em NumPy"
   ]
  },
  {
   "cell_type": "markdown",
   "id": "4c12c9a6-9b6b-43eb-8cfe-dd9e1813657c",
   "metadata": {},
   "source": [
    "> Importando a biblioteca NumPy como np"
   ]
  },
  {
   "cell_type": "code",
   "execution_count": 5,
   "id": "d3b876b8-8eba-4823-955b-4bd85c4a9ff7",
   "metadata": {},
   "outputs": [],
   "source": [
    "import numpy as np"
   ]
  },
  {
   "cell_type": "markdown",
   "id": "b0de8466-a20b-445e-8797-be9a82bd0cf6",
   "metadata": {},
   "source": [
    "> Criando uma lista"
   ]
  },
  {
   "cell_type": "code",
   "execution_count": 6,
   "id": "916f9f8a-e488-446d-8520-bbcd0c326cbe",
   "metadata": {},
   "outputs": [],
   "source": [
    "minha_lista = [1,2,3]"
   ]
  },
  {
   "cell_type": "markdown",
   "id": "87827dee",
   "metadata": {},
   "source": [
    "#### Array Unidimensional (Vetor)"
   ]
  },
  {
   "cell_type": "markdown",
   "id": "a7d73cf6-e495-4364-b532-8e40ec4b7c40",
   "metadata": {},
   "source": [
    "> Exibindo a lista criada"
   ]
  },
  {
   "cell_type": "code",
   "execution_count": 7,
   "id": "1ce9c2b0-ab2b-48d4-ab91-6c69d551928d",
   "metadata": {},
   "outputs": [
    {
     "data": {
      "text/plain": [
       "[1, 2, 3]"
      ]
     },
     "execution_count": 7,
     "metadata": {},
     "output_type": "execute_result"
    }
   ],
   "source": [
    "minha_lista"
   ]
  },
  {
   "cell_type": "markdown",
   "id": "0169ddd8-2ac9-48e0-9aa5-995157db5f65",
   "metadata": {},
   "source": [
    "> Criando um array com a lista criada"
   ]
  },
  {
   "cell_type": "code",
   "execution_count": 8,
   "id": "94e9d5c8-015f-4948-8a4d-91b3539528e6",
   "metadata": {},
   "outputs": [
    {
     "data": {
      "text/plain": [
       "array([1, 2, 3])"
      ]
     },
     "execution_count": 8,
     "metadata": {},
     "output_type": "execute_result"
    }
   ],
   "source": [
    "np.array(minha_lista)"
   ]
  },
  {
   "cell_type": "markdown",
   "id": "3e4b65d5",
   "metadata": {},
   "source": [
    "#### Array Bidimensional (Matriz)"
   ]
  },
  {
   "cell_type": "markdown",
   "id": "4b2da0c8-7e6f-40a8-93a2-8bf4ca1fcd6b",
   "metadata": {},
   "source": [
    "> Criando uma matriz"
   ]
  },
  {
   "cell_type": "code",
   "execution_count": 9,
   "id": "86c056e9-2035-412a-ae05-84d6518a7413",
   "metadata": {},
   "outputs": [],
   "source": [
    "minha_matriz = [[1,2,3], [4,5,6], [7,8,9]]"
   ]
  },
  {
   "cell_type": "markdown",
   "id": "f65feece-2b09-4bf1-8357-7433ab62e19e",
   "metadata": {},
   "source": [
    "> Criando uma array bidimensional com a matriz"
   ]
  },
  {
   "cell_type": "code",
   "execution_count": 10,
   "id": "cca7380b-c167-4739-8706-6c9cd4531cd8",
   "metadata": {},
   "outputs": [
    {
     "data": {
      "text/plain": [
       "array([[1, 2, 3],\n",
       "       [4, 5, 6],\n",
       "       [7, 8, 9]])"
      ]
     },
     "execution_count": 10,
     "metadata": {},
     "output_type": "execute_result"
    }
   ],
   "source": [
    "np.array(minha_matriz)"
   ]
  },
  {
   "cell_type": "markdown",
   "id": "4bb37b8a",
   "metadata": {},
   "source": [
    "#### Utilizando metódos de np para criar/exibir Vetores"
   ]
  },
  {
   "cell_type": "markdown",
   "id": "fa545fde-ee66-4f7d-bd9b-180a9f4efbba",
   "metadata": {},
   "source": [
    "> Exibindo uma array de 0 a 10"
   ]
  },
  {
   "cell_type": "code",
   "execution_count": 12,
   "id": "72931bda-4e1b-45ec-bce4-8b2723af70fb",
   "metadata": {},
   "outputs": [
    {
     "data": {
      "text/plain": [
       "array([0, 1, 2, 3, 4, 5, 6, 7, 8, 9])"
      ]
     },
     "execution_count": 12,
     "metadata": {},
     "output_type": "execute_result"
    }
   ],
   "source": [
    "np.arange(0,10)"
   ]
  },
  {
   "cell_type": "markdown",
   "id": "3198a91c-8c4b-40ef-aee4-4ddb7b7851c5",
   "metadata": {},
   "source": [
    "> Exibindo uma array entre 0 e 10 com os valores de 2 em 2, pares."
   ]
  },
  {
   "cell_type": "code",
   "execution_count": 13,
   "id": "9b76b28c-b437-4e4e-b708-b8de79b320f2",
   "metadata": {},
   "outputs": [
    {
     "data": {
      "text/plain": [
       "array([0, 2, 4, 6, 8])"
      ]
     },
     "execution_count": 13,
     "metadata": {},
     "output_type": "execute_result"
    }
   ],
   "source": [
    "np.arange(0, 10, 2)"
   ]
  },
  {
   "cell_type": "markdown",
   "id": "454827a5-6f80-4cc3-94d7-f41b3c87d6df",
   "metadata": {},
   "source": [
    "> Exibindo uma array composta por zeros"
   ]
  },
  {
   "cell_type": "code",
   "execution_count": 14,
   "id": "a2209c2c-0df1-4311-9099-2b3236bbeff3",
   "metadata": {},
   "outputs": [
    {
     "data": {
      "text/plain": [
       "array([0., 0., 0.])"
      ]
     },
     "execution_count": 14,
     "metadata": {},
     "output_type": "execute_result"
    }
   ],
   "source": [
    "np.zeros(3)"
   ]
  },
  {
   "cell_type": "markdown",
   "id": "70849753-f727-4529-b664-88a441f1b8de",
   "metadata": {},
   "source": [
    "> Atribuindo uma array composta por zeros à arr"
   ]
  },
  {
   "cell_type": "code",
   "execution_count": 15,
   "id": "c8c15061-a693-4835-947c-03bf1ce2aadc",
   "metadata": {},
   "outputs": [],
   "source": [
    "arr = np.zeros(3)"
   ]
  },
  {
   "cell_type": "markdown",
   "id": "e96c68cf",
   "metadata": {},
   "source": [
    "#### Manipulandos as Arrays com NumPy"
   ]
  },
  {
   "cell_type": "markdown",
   "id": "34db5599-ea2f-4ac3-8fee-d679dcc7603a",
   "metadata": {},
   "source": [
    "> Atribuindo uma array bidimensional, 5x5, composta por zeros, à arr"
   ]
  },
  {
   "cell_type": "code",
   "execution_count": 19,
   "id": "194615bc-d0f4-4c9e-bb14-040f9b79e572",
   "metadata": {},
   "outputs": [],
   "source": [
    "arr = np.zeros((5,5))"
   ]
  },
  {
   "cell_type": "code",
   "execution_count": 20,
   "id": "dea09f34-3bda-49a5-b571-988e704234c2",
   "metadata": {},
   "outputs": [
    {
     "data": {
      "text/plain": [
       "array([[0., 0., 0., 0., 0.],\n",
       "       [0., 0., 0., 0., 0.],\n",
       "       [0., 0., 0., 0., 0.],\n",
       "       [0., 0., 0., 0., 0.],\n",
       "       [0., 0., 0., 0., 0.]])"
      ]
     },
     "execution_count": 20,
     "metadata": {},
     "output_type": "execute_result"
    }
   ],
   "source": [
    "arr"
   ]
  },
  {
   "cell_type": "markdown",
   "id": "a7860913-2cf4-45c4-aaae-47c5d82d653b",
   "metadata": {},
   "source": [
    "> Exibindo uma array bidimensional, 7x32, composta apenas por um "
   ]
  },
  {
   "cell_type": "code",
   "execution_count": 21,
   "id": "d313ea8c-3cb6-4f66-8e11-df5e8bfc1470",
   "metadata": {},
   "outputs": [
    {
     "data": {
      "text/plain": [
       "array([[1., 1., 1., 1., 1., 1., 1., 1., 1., 1., 1., 1., 1., 1., 1., 1.,\n",
       "        1., 1., 1., 1., 1., 1., 1., 1., 1., 1., 1., 1., 1., 1., 1., 1.],\n",
       "       [1., 1., 1., 1., 1., 1., 1., 1., 1., 1., 1., 1., 1., 1., 1., 1.,\n",
       "        1., 1., 1., 1., 1., 1., 1., 1., 1., 1., 1., 1., 1., 1., 1., 1.],\n",
       "       [1., 1., 1., 1., 1., 1., 1., 1., 1., 1., 1., 1., 1., 1., 1., 1.,\n",
       "        1., 1., 1., 1., 1., 1., 1., 1., 1., 1., 1., 1., 1., 1., 1., 1.],\n",
       "       [1., 1., 1., 1., 1., 1., 1., 1., 1., 1., 1., 1., 1., 1., 1., 1.,\n",
       "        1., 1., 1., 1., 1., 1., 1., 1., 1., 1., 1., 1., 1., 1., 1., 1.],\n",
       "       [1., 1., 1., 1., 1., 1., 1., 1., 1., 1., 1., 1., 1., 1., 1., 1.,\n",
       "        1., 1., 1., 1., 1., 1., 1., 1., 1., 1., 1., 1., 1., 1., 1., 1.],\n",
       "       [1., 1., 1., 1., 1., 1., 1., 1., 1., 1., 1., 1., 1., 1., 1., 1.,\n",
       "        1., 1., 1., 1., 1., 1., 1., 1., 1., 1., 1., 1., 1., 1., 1., 1.],\n",
       "       [1., 1., 1., 1., 1., 1., 1., 1., 1., 1., 1., 1., 1., 1., 1., 1.,\n",
       "        1., 1., 1., 1., 1., 1., 1., 1., 1., 1., 1., 1., 1., 1., 1., 1.]])"
      ]
     },
     "execution_count": 21,
     "metadata": {},
     "output_type": "execute_result"
    }
   ],
   "source": [
    "np.ones((7,32))"
   ]
  },
  {
   "cell_type": "markdown",
   "id": "27c34290-73cb-43df-a87e-85b8c6a4bbab",
   "metadata": {},
   "source": [
    "> Exibindo uma array, 4x4, que consiste em uma matriz identidade."
   ]
  },
  {
   "cell_type": "code",
   "execution_count": 22,
   "id": "f0652e2c-441d-4e9e-8a7f-d5812c270e78",
   "metadata": {},
   "outputs": [
    {
     "data": {
      "text/plain": [
       "array([[1., 0., 0., 0.],\n",
       "       [0., 1., 0., 0.],\n",
       "       [0., 0., 1., 0.],\n",
       "       [0., 0., 0., 1.]])"
      ]
     },
     "execution_count": 22,
     "metadata": {},
     "output_type": "execute_result"
    }
   ],
   "source": [
    "np.eye(4)"
   ]
  },
  {
   "cell_type": "markdown",
   "id": "1cd9d84e-8ab3-4813-af25-bb9d152d91c7",
   "metadata": {},
   "source": [
    "> Exibindo uma array de 5 números entre 0 e 10 proporcionais a 5."
   ]
  },
  {
   "cell_type": "code",
   "execution_count": 57,
   "id": "fb3a6114-4ba9-4b77-863c-05a85b48c7cb",
   "metadata": {},
   "outputs": [
    {
     "data": {
      "text/plain": [
       "array([ 0. ,  2.5,  5. ,  7.5, 10. ])"
      ]
     },
     "execution_count": 57,
     "metadata": {},
     "output_type": "execute_result"
    }
   ],
   "source": [
    "np.linspace(0, 10, 5)"
   ]
  },
  {
   "cell_type": "markdown",
   "id": "829bccd8",
   "metadata": {},
   "source": [
    "#### Arrays com valores aleatórios utilizando numpy.random"
   ]
  },
  {
   "cell_type": "markdown",
   "id": "f8d73e90-8235-4a3b-91ef-61d7e69b15f1",
   "metadata": {},
   "source": [
    "> Exibindo uma array de 5 composta por números decimais aleatorios entre 0 e 1."
   ]
  },
  {
   "cell_type": "code",
   "execution_count": 32,
   "id": "1db40cdd-929a-4fbb-bead-1fe22767edab",
   "metadata": {},
   "outputs": [
    {
     "data": {
      "text/plain": [
       "array([0.75780302, 0.13099044, 0.55868621, 0.84451192, 0.80210415])"
      ]
     },
     "execution_count": 32,
     "metadata": {},
     "output_type": "execute_result"
    }
   ],
   "source": [
    "np.random.rand (5)"
   ]
  },
  {
   "cell_type": "markdown",
   "id": "a079ac60-e360-48e2-b539-53d03ac52da2",
   "metadata": {},
   "source": [
    "> Exibindo uma array tridimensional, 5x4x3 composta por números decimais aleatorios entre 0 e 1"
   ]
  },
  {
   "cell_type": "code",
   "execution_count": 34,
   "id": "6c9495de-360b-4d20-8c29-4b397ef2a74a",
   "metadata": {},
   "outputs": [
    {
     "data": {
      "text/plain": [
       "array([[[0.83710625, 0.68064183, 0.27102595],\n",
       "        [0.74950765, 0.81126781, 0.816534  ],\n",
       "        [0.3466197 , 0.13102391, 0.25121322],\n",
       "        [0.24679427, 0.31683522, 0.05089185]],\n",
       "\n",
       "       [[0.10370301, 0.74860106, 0.02008965],\n",
       "        [0.19477348, 0.29492428, 0.54322829],\n",
       "        [0.17923831, 0.76540832, 0.28477534],\n",
       "        [0.12863596, 0.5312516 , 0.85968839]],\n",
       "\n",
       "       [[0.08321286, 0.93204822, 0.46424097],\n",
       "        [0.59812422, 0.6899965 , 0.42161448],\n",
       "        [0.32786308, 0.04189639, 0.70665492],\n",
       "        [0.22729208, 0.93509212, 0.34022471]],\n",
       "\n",
       "       [[0.18398956, 0.74552718, 0.8220951 ],\n",
       "        [0.49858316, 0.74380503, 0.18241632],\n",
       "        [0.50201331, 0.57152238, 0.84809625],\n",
       "        [0.99432338, 0.06028744, 0.99067317]],\n",
       "\n",
       "       [[0.50522695, 0.33381342, 0.56714878],\n",
       "        [0.60941969, 0.7647513 , 0.60594964],\n",
       "        [0.60383952, 0.06480279, 0.62507284],\n",
       "        [0.32003255, 0.4143027 , 0.15611292]]])"
      ]
     },
     "execution_count": 34,
     "metadata": {},
     "output_type": "execute_result"
    }
   ],
   "source": [
    "np.random.rand (5,4,3)"
   ]
  },
  {
   "cell_type": "markdown",
   "id": "174bce06-e3bf-4184-b3a3-15eb53d89f99",
   "metadata": {},
   "source": [
    "> Exibindo uma array composta por 4 números gaussianos aleatorios "
   ]
  },
  {
   "cell_type": "code",
   "execution_count": 35,
   "id": "527b6371-c9a5-4562-a2fc-e09648eba635",
   "metadata": {},
   "outputs": [
    {
     "data": {
      "text/plain": [
       "array([ 2.2852258 , -1.62036472, -0.32839055,  1.19275881])"
      ]
     },
     "execution_count": 35,
     "metadata": {},
     "output_type": "execute_result"
    }
   ],
   "source": [
    "np.random.randn (4)"
   ]
  },
  {
   "cell_type": "markdown",
   "id": "7868177c-771d-4718-9540-a97c8225dcf5",
   "metadata": {},
   "source": [
    "> Exibindo uma array composta por 5 números inteiros aleatórios entre 0 e 100"
   ]
  },
  {
   "cell_type": "code",
   "execution_count": 37,
   "id": "b988b10c-e786-41d6-8893-ee59a45db785",
   "metadata": {},
   "outputs": [
    {
     "data": {
      "text/plain": [
       "array([12, 89, 69, 36, 53])"
      ]
     },
     "execution_count": 37,
     "metadata": {},
     "output_type": "execute_result"
    }
   ],
   "source": [
    "np.random.randint (0, 100, 5)"
   ]
  },
  {
   "cell_type": "markdown",
   "id": "b4db9227",
   "metadata": {},
   "source": []
  },
  {
   "cell_type": "markdown",
   "id": "439739db-5653-4b70-aebc-2b5a8ef2c8d0",
   "metadata": {},
   "source": [
    "> Exibindo uma array composta por 5 números inteiros aleatórios entre 0 e 100, utilizando o metódo round"
   ]
  },
  {
   "cell_type": "code",
   "execution_count": 38,
   "id": "7f804198-8e44-4022-a011-6769eaa9ef26",
   "metadata": {},
   "outputs": [
    {
     "data": {
      "text/plain": [
       "array([71., 89., 14., 94., 33.])"
      ]
     },
     "execution_count": 38,
     "metadata": {},
     "output_type": "execute_result"
    }
   ],
   "source": [
    "np.round(np.random.rand(5)*100, 0)"
   ]
  },
  {
   "cell_type": "markdown",
   "id": "5f0e785d-6528-4cf1-be51-0d5805075fd0",
   "metadata": {},
   "source": [
    "> Atribuindo uma array composta por 25 posições de números aleatórios entre 0 e 1 à arr e exibindo-o"
   ]
  },
  {
   "cell_type": "code",
   "execution_count": 39,
   "id": "5a8d7f83-7045-44ad-84ff-f923c5b5afc0",
   "metadata": {},
   "outputs": [],
   "source": [
    "arr = np.random.rand(25)"
   ]
  },
  {
   "cell_type": "code",
   "execution_count": 40,
   "id": "a53e88f2-9d89-436e-b0bf-c49e4b126980",
   "metadata": {},
   "outputs": [
    {
     "data": {
      "text/plain": [
       "array([0.68910005, 0.98061642, 0.8044563 , 0.19071096, 0.14393131,\n",
       "       0.06482917, 0.537428  , 0.87073117, 0.84501176, 0.81203825,\n",
       "       0.39533731, 0.14346841, 0.65920755, 0.98401088, 0.90914703,\n",
       "       0.10233533, 0.88033573, 0.37520208, 0.44566714, 0.18751585,\n",
       "       0.27021355, 0.48831245, 0.70425311, 0.01940983, 0.11725166])"
      ]
     },
     "execution_count": 40,
     "metadata": {},
     "output_type": "execute_result"
    }
   ],
   "source": [
    "arr"
   ]
  },
  {
   "cell_type": "markdown",
   "id": "ed18b581-4ed6-44bb-b20e-ae705ea519a4",
   "metadata": {},
   "source": [
    "> Utilizando reshape para transformar a arr de 25 posições em uma array bidimensional 5x5, mantendo os mesmos valores e respectivas posições."
   ]
  },
  {
   "cell_type": "markdown",
   "id": "cd0e9969",
   "metadata": {},
   "source": [
    "#### Analisando Arrays (suas dimensões e valores)"
   ]
  },
  {
   "cell_type": "code",
   "execution_count": 41,
   "id": "32a069f1-8da3-4b8b-8ac1-552a48251477",
   "metadata": {},
   "outputs": [
    {
     "data": {
      "text/plain": [
       "array([[0.68910005, 0.98061642, 0.8044563 , 0.19071096, 0.14393131],\n",
       "       [0.06482917, 0.537428  , 0.87073117, 0.84501176, 0.81203825],\n",
       "       [0.39533731, 0.14346841, 0.65920755, 0.98401088, 0.90914703],\n",
       "       [0.10233533, 0.88033573, 0.37520208, 0.44566714, 0.18751585],\n",
       "       [0.27021355, 0.48831245, 0.70425311, 0.01940983, 0.11725166]])"
      ]
     },
     "execution_count": 41,
     "metadata": {},
     "output_type": "execute_result"
    }
   ],
   "source": [
    "arr.reshape((5,5))"
   ]
  },
  {
   "cell_type": "code",
   "execution_count": 46,
   "id": "aad7cabf-6e83-43c0-9d6c-8c85ff9e22fe",
   "metadata": {},
   "outputs": [
    {
     "data": {
      "text/plain": [
       "array([[0.68910005, 0.98061642, 0.8044563 , 0.19071096, 0.14393131],\n",
       "       [0.06482917, 0.537428  , 0.87073117, 0.84501176, 0.81203825],\n",
       "       [0.39533731, 0.14346841, 0.65920755, 0.98401088, 0.90914703],\n",
       "       [0.10233533, 0.88033573, 0.37520208, 0.44566714, 0.18751585],\n",
       "       [0.27021355, 0.48831245, 0.70425311, 0.01940983, 0.11725166]])"
      ]
     },
     "execution_count": 46,
     "metadata": {},
     "output_type": "execute_result"
    }
   ],
   "source": [
    "arr"
   ]
  },
  {
   "cell_type": "markdown",
   "id": "80babc6c-d4e1-44ac-aba0-978ebaa32b9b",
   "metadata": {},
   "source": [
    "> Exibindo a forma de arr"
   ]
  },
  {
   "cell_type": "code",
   "execution_count": 47,
   "id": "d3eb9807-bd02-4927-afca-f9ef8572b4de",
   "metadata": {},
   "outputs": [
    {
     "data": {
      "text/plain": [
       "(5, 5)"
      ]
     },
     "execution_count": 47,
     "metadata": {},
     "output_type": "execute_result"
    }
   ],
   "source": [
    "arr.shape"
   ]
  },
  {
   "cell_type": "markdown",
   "id": "20b767dd-dbb0-43c1-8151-7b122b9898a1",
   "metadata": {},
   "source": [
    "> Exibindo o maior valor de arr"
   ]
  },
  {
   "cell_type": "code",
   "execution_count": 49,
   "id": "f63ebb04-21e7-4182-a0e5-2c148ec4c57d",
   "metadata": {},
   "outputs": [
    {
     "data": {
      "text/plain": [
       "0.9840108768578899"
      ]
     },
     "execution_count": 49,
     "metadata": {},
     "output_type": "execute_result"
    }
   ],
   "source": [
    "arr.max()"
   ]
  },
  {
   "cell_type": "markdown",
   "id": "31cc7759-47c3-4acc-b8bc-656dd34965e1",
   "metadata": {},
   "source": [
    "> Exibindo o menor valor de arr"
   ]
  },
  {
   "cell_type": "code",
   "execution_count": 50,
   "id": "cd5ada5b-0bb9-49b2-87b4-06a0e73e9305",
   "metadata": {},
   "outputs": [
    {
     "data": {
      "text/plain": [
       "0.019409832084675727"
      ]
     },
     "execution_count": 50,
     "metadata": {},
     "output_type": "execute_result"
    }
   ],
   "source": [
    "arr.min()"
   ]
  },
  {
   "cell_type": "markdown",
   "id": "da62badb-9306-4f60-9fe6-201fe0723ee0",
   "metadata": {},
   "source": [
    "> Exibindo a posição do maior valor de arr"
   ]
  },
  {
   "cell_type": "code",
   "execution_count": 52,
   "id": "d13c6c51-7f71-4fba-8080-45fa775baa85",
   "metadata": {},
   "outputs": [
    {
     "data": {
      "text/plain": [
       "13"
      ]
     },
     "execution_count": 52,
     "metadata": {},
     "output_type": "execute_result"
    }
   ],
   "source": [
    "arr.argmax()"
   ]
  },
  {
   "cell_type": "markdown",
   "id": "159b3922-c089-414c-9ac8-5539de432a5b",
   "metadata": {},
   "source": [
    "> Exibindo a posição do menor valor de arr"
   ]
  },
  {
   "cell_type": "code",
   "execution_count": 53,
   "id": "b332c189-4bea-43c8-b730-41139b97ec5d",
   "metadata": {},
   "outputs": [
    {
     "data": {
      "text/plain": [
       "23"
      ]
     },
     "execution_count": 53,
     "metadata": {},
     "output_type": "execute_result"
    }
   ],
   "source": [
    "arr.argmin()"
   ]
  }
 ],
 "metadata": {
  "kernelspec": {
   "display_name": "Python 3 (ipykernel)",
   "language": "python",
   "name": "python3"
  },
  "language_info": {
   "codemirror_mode": {
    "name": "ipython",
    "version": 3
   },
   "file_extension": ".py",
   "mimetype": "text/x-python",
   "name": "python",
   "nbconvert_exporter": "python",
   "pygments_lexer": "ipython3",
   "version": "3.12.4"
  }
 },
 "nbformat": 4,
 "nbformat_minor": 5
}
