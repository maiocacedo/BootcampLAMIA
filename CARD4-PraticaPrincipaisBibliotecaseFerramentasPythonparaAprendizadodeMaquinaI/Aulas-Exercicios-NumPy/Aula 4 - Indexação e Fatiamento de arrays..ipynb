{
 "cells": [
  {
   "cell_type": "markdown",
   "id": "a5a5702f",
   "metadata": {},
   "source": [
    "# **Indexação e Fatiamento e arrays**"
   ]
  },
  {
   "cell_type": "markdown",
   "id": "beaab89e",
   "metadata": {},
   "source": [
    "> Importando a Biblioteca NumPy"
   ]
  },
  {
   "cell_type": "code",
   "execution_count": 2,
   "id": "421b580b-5cf7-49da-ac7c-d3f729174d71",
   "metadata": {},
   "outputs": [],
   "source": [
    "import numpy as np"
   ]
  },
  {
   "cell_type": "markdown",
   "id": "371cec1c",
   "metadata": {},
   "source": [
    "> Usando arange para criar uma array que varia de 0 a 30 de 3 em 3."
   ]
  },
  {
   "cell_type": "code",
   "execution_count": 3,
   "id": "eeab4915-ca77-47f8-99bd-2407e86d7853",
   "metadata": {},
   "outputs": [],
   "source": [
    "arr = np.arange(0,30,3)"
   ]
  },
  {
   "cell_type": "code",
   "execution_count": 4,
   "id": "b86da478-aad8-4ca8-8b14-3eddb7914a4b",
   "metadata": {},
   "outputs": [
    {
     "data": {
      "text/plain": [
       "array([ 0,  3,  6,  9, 12, 15, 18, 21, 24, 27])"
      ]
     },
     "execution_count": 4,
     "metadata": {},
     "output_type": "execute_result"
    }
   ],
   "source": [
    "arr"
   ]
  },
  {
   "cell_type": "markdown",
   "id": "9a387398",
   "metadata": {},
   "source": [
    "> Exibindo o índice 3 da arr"
   ]
  },
  {
   "cell_type": "code",
   "execution_count": 5,
   "id": "7e821e0a-300b-4f5b-b0f3-4484a3f94597",
   "metadata": {},
   "outputs": [
    {
     "data": {
      "text/plain": [
       "9"
      ]
     },
     "execution_count": 5,
     "metadata": {},
     "output_type": "execute_result"
    }
   ],
   "source": [
    "arr[3]"
   ]
  },
  {
   "cell_type": "markdown",
   "id": "3087e36f",
   "metadata": {},
   "source": [
    "> Exibindo valores do índice 2 ao 5."
   ]
  },
  {
   "cell_type": "code",
   "execution_count": 6,
   "id": "0624a8ba-e27d-4e44-bc31-632967dab803",
   "metadata": {},
   "outputs": [
    {
     "data": {
      "text/plain": [
       "array([ 6,  9, 12])"
      ]
     },
     "execution_count": 6,
     "metadata": {},
     "output_type": "execute_result"
    }
   ],
   "source": [
    "arr[2:5]"
   ]
  },
  {
   "cell_type": "markdown",
   "id": "ae13bba8",
   "metadata": {},
   "source": [
    "> Exibindo valores até o índice 5"
   ]
  },
  {
   "cell_type": "code",
   "execution_count": 7,
   "id": "246b5366-0247-4863-a2e4-bd534d7ca3f7",
   "metadata": {},
   "outputs": [
    {
     "data": {
      "text/plain": [
       "array([ 0,  3,  6,  9, 12])"
      ]
     },
     "execution_count": 7,
     "metadata": {},
     "output_type": "execute_result"
    }
   ],
   "source": [
    "arr[:5]"
   ]
  },
  {
   "cell_type": "markdown",
   "id": "ba75ddd5",
   "metadata": {},
   "source": [
    "> Exibindo valores a partir do índice 2"
   ]
  },
  {
   "cell_type": "code",
   "execution_count": 8,
   "id": "0843dbdb-3036-4dd4-9834-06c09fa4976b",
   "metadata": {},
   "outputs": [
    {
     "data": {
      "text/plain": [
       "array([ 6,  9, 12, 15, 18, 21, 24, 27])"
      ]
     },
     "execution_count": 8,
     "metadata": {},
     "output_type": "execute_result"
    }
   ],
   "source": [
    "arr[2:]"
   ]
  },
  {
   "cell_type": "markdown",
   "id": "de11326a",
   "metadata": {},
   "source": [
    "> Atribuindo valor 100 para os índices a partir de 2"
   ]
  },
  {
   "cell_type": "code",
   "execution_count": 9,
   "id": "49ace6e6-c5f4-404a-828f-6e787ca5826b",
   "metadata": {},
   "outputs": [],
   "source": [
    "arr[2:] = 100"
   ]
  },
  {
   "cell_type": "code",
   "execution_count": 10,
   "id": "b1ca97c3-6737-4c7a-b230-57654a0d00fc",
   "metadata": {},
   "outputs": [],
   "source": [
    "arr[2:] = 100"
   ]
  },
  {
   "cell_type": "markdown",
   "id": "bcc8c151",
   "metadata": {},
   "source": [
    "> Exibindo valores a partir do índice 2"
   ]
  },
  {
   "cell_type": "code",
   "execution_count": 11,
   "id": "1de30326-2c4b-44f5-a3fd-58e2c86e852e",
   "metadata": {},
   "outputs": [
    {
     "data": {
      "text/plain": [
       "array([100, 100, 100, 100, 100, 100, 100, 100])"
      ]
     },
     "execution_count": 11,
     "metadata": {},
     "output_type": "execute_result"
    }
   ],
   "source": [
    "arr[2:]"
   ]
  },
  {
   "cell_type": "markdown",
   "id": "b3d7885a",
   "metadata": {},
   "source": [
    "> Checando se os valores a partir do índice 2 é igual à 10, o que retornará uma array de valores bool"
   ]
  },
  {
   "cell_type": "code",
   "execution_count": 12,
   "id": "7b95728a-e10c-4317-b1a4-394f9d7a43cf",
   "metadata": {},
   "outputs": [
    {
     "data": {
      "text/plain": [
       "array([False, False, False, False, False, False, False, False])"
      ]
     },
     "execution_count": 12,
     "metadata": {},
     "output_type": "execute_result"
    }
   ],
   "source": [
    "arr[2:] == 10"
   ]
  },
  {
   "cell_type": "markdown",
   "id": "95cca324",
   "metadata": {},
   "source": [
    "> Atribuindo à arr uma array 5x10 com valores de 0 a 49"
   ]
  },
  {
   "cell_type": "code",
   "execution_count": 13,
   "id": "c8e0df2a-36e8-4e89-a871-ee1ff88a741c",
   "metadata": {},
   "outputs": [],
   "source": [
    "arr = np.arange(50).reshape((5,10))"
   ]
  },
  {
   "cell_type": "code",
   "execution_count": 14,
   "id": "0ed5bfa1-6e5a-4ec4-b610-94bb98f557ea",
   "metadata": {},
   "outputs": [
    {
     "data": {
      "text/plain": [
       "array([[ 0,  1,  2,  3,  4,  5,  6,  7,  8,  9],\n",
       "       [10, 11, 12, 13, 14, 15, 16, 17, 18, 19],\n",
       "       [20, 21, 22, 23, 24, 25, 26, 27, 28, 29],\n",
       "       [30, 31, 32, 33, 34, 35, 36, 37, 38, 39],\n",
       "       [40, 41, 42, 43, 44, 45, 46, 47, 48, 49]])"
      ]
     },
     "execution_count": 14,
     "metadata": {},
     "output_type": "execute_result"
    }
   ],
   "source": [
    "arr"
   ]
  },
  {
   "cell_type": "markdown",
   "id": "323e113a",
   "metadata": {},
   "source": [
    "> Exibindo as dimensões"
   ]
  },
  {
   "cell_type": "code",
   "execution_count": 15,
   "id": "e2fe3a04-14f9-48d8-8229-7c977acbd334",
   "metadata": {},
   "outputs": [
    {
     "data": {
      "text/plain": [
       "(5, 10)"
      ]
     },
     "execution_count": 15,
     "metadata": {},
     "output_type": "execute_result"
    }
   ],
   "source": [
    "arr.shape"
   ]
  },
  {
   "cell_type": "markdown",
   "id": "6a9cc751",
   "metadata": {},
   "source": [
    "> Exibindo valores até a linha 3 em todas as colunas."
   ]
  },
  {
   "cell_type": "code",
   "execution_count": 16,
   "id": "0c020c70-f240-4565-a264-5bb22b830af6",
   "metadata": {},
   "outputs": [
    {
     "data": {
      "text/plain": [
       "array([[ 0,  1,  2,  3,  4,  5,  6,  7,  8,  9],\n",
       "       [10, 11, 12, 13, 14, 15, 16, 17, 18, 19],\n",
       "       [20, 21, 22, 23, 24, 25, 26, 27, 28, 29]])"
      ]
     },
     "execution_count": 16,
     "metadata": {},
     "output_type": "execute_result"
    }
   ],
   "source": [
    "arr[:3][:]"
   ]
  },
  {
   "cell_type": "code",
   "execution_count": 17,
   "id": "1320be27-3d16-45c4-a8af-749b6f0271b8",
   "metadata": {},
   "outputs": [
    {
     "data": {
      "text/plain": [
       "array([[10, 11, 12, 13, 14, 15, 16, 17, 18, 19],\n",
       "       [20, 21, 22, 23, 24, 25, 26, 27, 28, 29]])"
      ]
     },
     "execution_count": 17,
     "metadata": {},
     "output_type": "execute_result"
    }
   ],
   "source": [
    "arr[:3][1:]"
   ]
  },
  {
   "cell_type": "markdown",
   "id": "dcc19e82",
   "metadata": {},
   "source": [
    "> Atribuindo à arr2, arr até a linha 3 "
   ]
  },
  {
   "cell_type": "code",
   "execution_count": 18,
   "id": "2588656f-d7af-4587-a985-37b2a849af17",
   "metadata": {},
   "outputs": [],
   "source": [
    "arr2 = arr[:3]"
   ]
  },
  {
   "cell_type": "code",
   "execution_count": 19,
   "id": "7687132e-fb83-4ad5-9068-652bfea74844",
   "metadata": {},
   "outputs": [
    {
     "data": {
      "text/plain": [
       "array([[ 0,  1,  2,  3,  4,  5,  6,  7,  8,  9],\n",
       "       [10, 11, 12, 13, 14, 15, 16, 17, 18, 19],\n",
       "       [20, 21, 22, 23, 24, 25, 26, 27, 28, 29]])"
      ]
     },
     "execution_count": 19,
     "metadata": {},
     "output_type": "execute_result"
    }
   ],
   "source": [
    "arr2"
   ]
  },
  {
   "cell_type": "markdown",
   "id": "e9802817",
   "metadata": {},
   "source": [
    "> Igualando todos os valores de arr2 à 100"
   ]
  },
  {
   "cell_type": "code",
   "execution_count": 20,
   "id": "ad4095a2-bc48-4c6c-a1d4-38ab9ddfec79",
   "metadata": {},
   "outputs": [],
   "source": [
    "arr2[:] = 100"
   ]
  },
  {
   "cell_type": "code",
   "execution_count": 21,
   "id": "afb6e395-f2fc-4e1f-96fd-541189d221e8",
   "metadata": {},
   "outputs": [
    {
     "data": {
      "text/plain": [
       "array([[100, 100, 100, 100, 100, 100, 100, 100, 100, 100],\n",
       "       [100, 100, 100, 100, 100, 100, 100, 100, 100, 100],\n",
       "       [100, 100, 100, 100, 100, 100, 100, 100, 100, 100]])"
      ]
     },
     "execution_count": 21,
     "metadata": {},
     "output_type": "execute_result"
    }
   ],
   "source": [
    "arr2"
   ]
  },
  {
   "cell_type": "markdown",
   "id": "60b3133e",
   "metadata": {},
   "source": [
    "> Note que a atribuição serviu também na arr"
   ]
  },
  {
   "cell_type": "code",
   "execution_count": 22,
   "id": "d60f0d38-d537-4c33-a513-7a1174d06348",
   "metadata": {},
   "outputs": [
    {
     "data": {
      "text/plain": [
       "array([[100, 100, 100, 100, 100, 100, 100, 100, 100, 100],\n",
       "       [100, 100, 100, 100, 100, 100, 100, 100, 100, 100],\n",
       "       [100, 100, 100, 100, 100, 100, 100, 100, 100, 100],\n",
       "       [ 30,  31,  32,  33,  34,  35,  36,  37,  38,  39],\n",
       "       [ 40,  41,  42,  43,  44,  45,  46,  47,  48,  49]])"
      ]
     },
     "execution_count": 22,
     "metadata": {},
     "output_type": "execute_result"
    }
   ],
   "source": [
    "arr"
   ]
  },
  {
   "cell_type": "markdown",
   "id": "499f3150",
   "metadata": {},
   "source": [
    "> Atribuindo a arr2 uma cópia de arr em arr2"
   ]
  },
  {
   "cell_type": "code",
   "execution_count": 23,
   "id": "982f98b0-2f4b-4211-875c-7e8800291789",
   "metadata": {},
   "outputs": [],
   "source": [
    "arr2 = arr[:].copy()"
   ]
  },
  {
   "cell_type": "code",
   "execution_count": 24,
   "id": "824881af-71ab-4972-ba36-e92abe14804c",
   "metadata": {},
   "outputs": [
    {
     "data": {
      "text/plain": [
       "array([[100, 100, 100, 100, 100, 100, 100, 100, 100, 100],\n",
       "       [100, 100, 100, 100, 100, 100, 100, 100, 100, 100],\n",
       "       [100, 100, 100, 100, 100, 100, 100, 100, 100, 100],\n",
       "       [ 30,  31,  32,  33,  34,  35,  36,  37,  38,  39],\n",
       "       [ 40,  41,  42,  43,  44,  45,  46,  47,  48,  49]])"
      ]
     },
     "execution_count": 24,
     "metadata": {},
     "output_type": "execute_result"
    }
   ],
   "source": [
    "arr2"
   ]
  },
  {
   "cell_type": "markdown",
   "id": "ab6daa23",
   "metadata": {},
   "source": [
    "> Atribuindo uma array de 1 a 50 com tamanho 5x10 para arr"
   ]
  },
  {
   "cell_type": "code",
   "execution_count": 25,
   "id": "41751c0b-e114-4710-b282-18324e47f230",
   "metadata": {},
   "outputs": [],
   "source": [
    "arr = np.arange(50).reshape((5,10))"
   ]
  },
  {
   "cell_type": "markdown",
   "id": "c290489a",
   "metadata": {},
   "source": [
    "> Exibindo os valores da linha 1 a 4, a partir da quinta coluna"
   ]
  },
  {
   "cell_type": "code",
   "execution_count": 26,
   "id": "24b3e4ac-413d-4bb1-9e0b-afeef1ea72db",
   "metadata": {},
   "outputs": [
    {
     "data": {
      "text/plain": [
       "array([[15, 16, 17, 18, 19],\n",
       "       [25, 26, 27, 28, 29],\n",
       "       [35, 36, 37, 38, 39]])"
      ]
     },
     "execution_count": 26,
     "metadata": {},
     "output_type": "execute_result"
    }
   ],
   "source": [
    "arr[1:4,5:]"
   ]
  },
  {
   "cell_type": "markdown",
   "id": "0da2130c",
   "metadata": {},
   "source": [
    "> Checando os valores maiores que 50"
   ]
  },
  {
   "cell_type": "code",
   "execution_count": 27,
   "id": "6ba05504-66da-462b-8b35-5e9365ebfe00",
   "metadata": {},
   "outputs": [
    {
     "data": {
      "text/plain": [
       "array([[False, False, False, False, False, False, False, False, False,\n",
       "        False],\n",
       "       [False, False, False, False, False, False, False, False, False,\n",
       "        False],\n",
       "       [False, False, False, False, False, False, False, False, False,\n",
       "        False],\n",
       "       [False, False, False, False, False, False, False, False, False,\n",
       "        False],\n",
       "       [False, False, False, False, False, False, False, False, False,\n",
       "        False]])"
      ]
     },
     "execution_count": 27,
     "metadata": {},
     "output_type": "execute_result"
    }
   ],
   "source": [
    "arr > 50"
   ]
  },
  {
   "cell_type": "markdown",
   "id": "6ad367ec",
   "metadata": {},
   "source": [
    "> Criando uma variavel de tipo booleano que será uma array de true e false satisfazendo a condição arr > 30 em todos os índices correspondentes"
   ]
  },
  {
   "cell_type": "code",
   "execution_count": 28,
   "id": "343a8ba2-efad-4517-bf85-1efb82faba8c",
   "metadata": {},
   "outputs": [],
   "source": [
    "bo1 = arr > 30"
   ]
  },
  {
   "cell_type": "code",
   "execution_count": 29,
   "id": "ee9c7728",
   "metadata": {},
   "outputs": [
    {
     "data": {
      "text/plain": [
       "array([[False, False, False, False, False, False, False, False, False,\n",
       "        False],\n",
       "       [False, False, False, False, False, False, False, False, False,\n",
       "        False],\n",
       "       [False, False, False, False, False, False, False, False, False,\n",
       "        False],\n",
       "       [False,  True,  True,  True,  True,  True,  True,  True,  True,\n",
       "         True],\n",
       "       [ True,  True,  True,  True,  True,  True,  True,  True,  True,\n",
       "         True]])"
      ]
     },
     "execution_count": 29,
     "metadata": {},
     "output_type": "execute_result"
    }
   ],
   "source": [
    "bo1"
   ]
  },
  {
   "cell_type": "markdown",
   "id": "56e9cfea",
   "metadata": {},
   "source": [
    "> Mostrando os valores dos índices que satisfazem bo1"
   ]
  },
  {
   "cell_type": "code",
   "execution_count": 30,
   "id": "80678ba8-c994-43fd-9bd5-402e3abc26ff",
   "metadata": {},
   "outputs": [
    {
     "data": {
      "text/plain": [
       "array([31, 32, 33, 34, 35, 36, 37, 38, 39, 40, 41, 42, 43, 44, 45, 46, 47,\n",
       "       48, 49])"
      ]
     },
     "execution_count": 30,
     "metadata": {},
     "output_type": "execute_result"
    }
   ],
   "source": [
    "arr[bo1]"
   ]
  },
  {
   "cell_type": "markdown",
   "id": "e3f841ee",
   "metadata": {},
   "source": [
    "> Atribuindo uma array que serão 30 valores de 0 a 100 igualmente espaçados"
   ]
  },
  {
   "cell_type": "code",
   "execution_count": 31,
   "id": "616d37aa-ee1a-488b-9388-7706b6877f26",
   "metadata": {},
   "outputs": [],
   "source": [
    "array = np.linspace(0,100,30)"
   ]
  },
  {
   "cell_type": "markdown",
   "id": "fb0d13b3",
   "metadata": {},
   "source": [
    "> Atribuindo a forma 2x15"
   ]
  },
  {
   "cell_type": "code",
   "execution_count": 32,
   "id": "4e7a780d-25e7-454b-a921-826a1598a241",
   "metadata": {},
   "outputs": [],
   "source": [
    "array = array.reshape(2,15)"
   ]
  },
  {
   "cell_type": "code",
   "execution_count": 33,
   "id": "00163e2e-61dc-4d11-94c8-58f3d66ba91c",
   "metadata": {},
   "outputs": [
    {
     "data": {
      "text/plain": [
       "array([[  0.        ,   3.44827586,   6.89655172,  10.34482759,\n",
       "         13.79310345,  17.24137931,  20.68965517,  24.13793103,\n",
       "         27.5862069 ,  31.03448276,  34.48275862,  37.93103448,\n",
       "         41.37931034,  44.82758621,  48.27586207],\n",
       "       [ 51.72413793,  55.17241379,  58.62068966,  62.06896552,\n",
       "         65.51724138,  68.96551724,  72.4137931 ,  75.86206897,\n",
       "         79.31034483,  82.75862069,  86.20689655,  89.65517241,\n",
       "         93.10344828,  96.55172414, 100.        ]])"
      ]
     },
     "execution_count": 33,
     "metadata": {},
     "output_type": "execute_result"
    }
   ],
   "source": [
    "array"
   ]
  },
  {
   "cell_type": "code",
   "execution_count": 34,
   "id": "4f4f64fd-4996-465a-b4f2-94980fb771ed",
   "metadata": {},
   "outputs": [
    {
     "data": {
      "text/plain": [
       "array([ 6.89655172, 58.62068966])"
      ]
     },
     "execution_count": 34,
     "metadata": {},
     "output_type": "execute_result"
    }
   ],
   "source": [
    "array[0:2,2] "
   ]
  }
 ],
 "metadata": {
  "kernelspec": {
   "display_name": "base",
   "language": "python",
   "name": "python3"
  },
  "language_info": {
   "codemirror_mode": {
    "name": "ipython",
    "version": 3
   },
   "file_extension": ".py",
   "mimetype": "text/x-python",
   "name": "python",
   "nbconvert_exporter": "python",
   "pygments_lexer": "ipython3",
   "version": "3.12.4"
  }
 },
 "nbformat": 4,
 "nbformat_minor": 5
}
