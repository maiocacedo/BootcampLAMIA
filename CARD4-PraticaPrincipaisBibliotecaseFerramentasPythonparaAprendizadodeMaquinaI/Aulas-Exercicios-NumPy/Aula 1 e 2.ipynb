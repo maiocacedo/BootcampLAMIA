{
 "cells": [
  {
   "cell_type": "markdown",
   "id": "b67eaa65",
   "metadata": {},
   "source": [
    "# Apresentação do jupyter notebook\n",
    " > *Como funciona e principais funções do ambiente utilizado para programação.*"
   ]
  },
  {
   "cell_type": "code",
   "execution_count": 1,
   "id": "813459aa-b627-45ec-8b24-4dad5db4d334",
   "metadata": {},
   "outputs": [
    {
     "name": "stdout",
     "output_type": "stream",
     "text": [
      "hello\n"
     ]
    }
   ],
   "source": [
    "print('hello')"
   ]
  },
  {
   "cell_type": "code",
   "execution_count": 2,
   "id": "cde3b1e6-2367-453d-a0a5-902df6aba7ce",
   "metadata": {},
   "outputs": [],
   "source": [
    "a = 2"
   ]
  },
  {
   "cell_type": "code",
   "execution_count": 3,
   "id": "2ee5e69d-03b5-43da-b0fc-f0175273bc29",
   "metadata": {},
   "outputs": [
    {
     "name": "stdout",
     "output_type": "stream",
     "text": [
      "2\n"
     ]
    }
   ],
   "source": [
    "print(a)"
   ]
  },
  {
   "cell_type": "code",
   "execution_count": null,
   "id": "f8460858-ab15-4b7b-b465-58ae272f0ef2",
   "metadata": {},
   "outputs": [],
   "source": []
  }
 ],
 "metadata": {
  "kernelspec": {
   "display_name": "Python 3 (ipykernel)",
   "language": "python",
   "name": "python3"
  },
  "language_info": {
   "codemirror_mode": {
    "name": "ipython",
    "version": 3
   },
   "file_extension": ".py",
   "mimetype": "text/x-python",
   "name": "python",
   "nbconvert_exporter": "python",
   "pygments_lexer": "ipython3",
   "version": "3.12.6"
  }
 },
 "nbformat": 4,
 "nbformat_minor": 5
}
